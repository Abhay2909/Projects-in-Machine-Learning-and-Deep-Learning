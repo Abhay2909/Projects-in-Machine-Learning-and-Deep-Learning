{
 "cells": [
  {
   "cell_type": "markdown",
   "metadata": {},
   "source": [
    "### Step 1 - Get Emoji Dataset"
   ]
  },
  {
   "cell_type": "code",
   "execution_count": 1,
   "metadata": {},
   "outputs": [],
   "source": [
    "import emoji"
   ]
  },
  {
   "cell_type": "code",
   "execution_count": 2,
   "metadata": {},
   "outputs": [],
   "source": [
    "# emoji.EMOJI_UNICODE"
   ]
  },
  {
   "cell_type": "code",
   "execution_count": 3,
   "metadata": {},
   "outputs": [
    {
     "data": {
      "text/plain": [
       "'💪'"
      ]
     },
     "execution_count": 3,
     "metadata": {},
     "output_type": "execute_result"
    }
   ],
   "source": [
    "emoji.emojize(\":flexed_biceps:\")"
   ]
  },
  {
   "cell_type": "code",
   "execution_count": 4,
   "metadata": {},
   "outputs": [],
   "source": [
    "emoji_dictionary = {\"0\": \"\\u2764\\uFE0F\",    # :heart: prints a black instead of red heart depending on the font\n",
    "                    \"1\": \":baseball:\",\n",
    "                    \"2\": \":beaming_face_with_smiling_eyes:\",\n",
    "                    \"3\": \":downcast_face_with_sweat:\",\n",
    "                    \"4\": \":fork_and_knife:\",\n",
    "                   }"
   ]
  },
  {
   "cell_type": "code",
   "execution_count": 5,
   "metadata": {},
   "outputs": [
    {
     "name": "stdout",
     "output_type": "stream",
     "text": [
      "❤️\n",
      "⚾\n",
      "😁\n",
      "😓\n",
      "🍴\n"
     ]
    }
   ],
   "source": [
    "for e in emoji_dictionary.values():\n",
    "    print(emoji.emojize(e))"
   ]
  },
  {
   "cell_type": "markdown",
   "metadata": {},
   "source": [
    "### Step 2 - Processing a Custom Dataset"
   ]
  },
  {
   "cell_type": "code",
   "execution_count": 6,
   "metadata": {},
   "outputs": [],
   "source": [
    "import numpy as np\n",
    "import pandas as pd"
   ]
  },
  {
   "cell_type": "code",
   "execution_count": 7,
   "metadata": {},
   "outputs": [],
   "source": [
    "train=pd.read_csv('dataset/train_emoji.csv',header=None)\n",
    "test=pd.read_csv('dataset/test_emoji.csv',header=None)"
   ]
  },
  {
   "cell_type": "code",
   "execution_count": 8,
   "metadata": {},
   "outputs": [
    {
     "data": {
      "text/html": [
       "<div>\n",
       "<style scoped>\n",
       "    .dataframe tbody tr th:only-of-type {\n",
       "        vertical-align: middle;\n",
       "    }\n",
       "\n",
       "    .dataframe tbody tr th {\n",
       "        vertical-align: top;\n",
       "    }\n",
       "\n",
       "    .dataframe thead th {\n",
       "        text-align: right;\n",
       "    }\n",
       "</style>\n",
       "<table border=\"1\" class=\"dataframe\">\n",
       "  <thead>\n",
       "    <tr style=\"text-align: right;\">\n",
       "      <th></th>\n",
       "      <th>0</th>\n",
       "      <th>1</th>\n",
       "      <th>2</th>\n",
       "      <th>3</th>\n",
       "    </tr>\n",
       "  </thead>\n",
       "  <tbody>\n",
       "    <tr>\n",
       "      <th>0</th>\n",
       "      <td>never talk to me again</td>\n",
       "      <td>3</td>\n",
       "      <td>NaN</td>\n",
       "      <td>NaN</td>\n",
       "    </tr>\n",
       "    <tr>\n",
       "      <th>1</th>\n",
       "      <td>I am proud of your achievements</td>\n",
       "      <td>2</td>\n",
       "      <td>NaN</td>\n",
       "      <td>NaN</td>\n",
       "    </tr>\n",
       "    <tr>\n",
       "      <th>2</th>\n",
       "      <td>It is the worst day in my life</td>\n",
       "      <td>3</td>\n",
       "      <td>NaN</td>\n",
       "      <td>NaN</td>\n",
       "    </tr>\n",
       "    <tr>\n",
       "      <th>3</th>\n",
       "      <td>Miss you so much</td>\n",
       "      <td>0</td>\n",
       "      <td>NaN</td>\n",
       "      <td>[0]</td>\n",
       "    </tr>\n",
       "    <tr>\n",
       "      <th>4</th>\n",
       "      <td>food is life</td>\n",
       "      <td>4</td>\n",
       "      <td>NaN</td>\n",
       "      <td>NaN</td>\n",
       "    </tr>\n",
       "  </tbody>\n",
       "</table>\n",
       "</div>"
      ],
      "text/plain": [
       "                                 0  1   2     3\n",
       "0           never talk to me again  3 NaN   NaN\n",
       "1  I am proud of your achievements  2 NaN   NaN\n",
       "2   It is the worst day in my life  3 NaN   NaN\n",
       "3                 Miss you so much  0 NaN   [0]\n",
       "4                     food is life  4 NaN   NaN"
      ]
     },
     "execution_count": 8,
     "metadata": {},
     "output_type": "execute_result"
    }
   ],
   "source": [
    "train.head()"
   ]
  },
  {
   "cell_type": "code",
   "execution_count": 8,
   "metadata": {},
   "outputs": [
    {
     "name": "stdout",
     "output_type": "stream",
     "text": [
      "(132, 4)\n"
     ]
    }
   ],
   "source": [
    "# Let us print the statements with emojis\n",
    "data=train.values\n",
    "print(data.shape)"
   ]
  },
  {
   "cell_type": "code",
   "execution_count": 9,
   "metadata": {},
   "outputs": [],
   "source": [
    "X_train=train[0]\n",
    "Y_train=train[1]"
   ]
  },
  {
   "cell_type": "code",
   "execution_count": 10,
   "metadata": {},
   "outputs": [],
   "source": [
    "X_test=test[0]\n",
    "Y_test=test[1]"
   ]
  },
  {
   "cell_type": "code",
   "execution_count": 11,
   "metadata": {},
   "outputs": [
    {
     "name": "stdout",
     "output_type": "stream",
     "text": [
      "never talk to me again 😓\n",
      "I am proud of your achievements 😁\n",
      "It is the worst day in my life 😓\n",
      "Miss you so much ❤️\n",
      "food is life 🍴\n"
     ]
    }
   ],
   "source": [
    "for i in range(5):\n",
    "    print(X_train[i],emoji.emojize(emoji_dictionary[str(Y_train[i])]))"
   ]
  },
  {
   "cell_type": "markdown",
   "metadata": {},
   "source": [
    "### Step 3 - Converting Sentences into Embeddings"
   ]
  },
  {
   "cell_type": "code",
   "execution_count": 12,
   "metadata": {},
   "outputs": [],
   "source": [
    "f=open('glove.6B.50d.txt',encoding='utf-8')"
   ]
  },
  {
   "cell_type": "code",
   "execution_count": 13,
   "metadata": {},
   "outputs": [],
   "source": [
    "embeddings_index={}\n",
    "\n",
    "for line in f:\n",
    "    values=line.split()\n",
    "    word=values[0]\n",
    "    coefs=np.asarray(values[1:],dtype='float')\n",
    "    embeddings_index[word]=coefs\n",
    "f.close()"
   ]
  },
  {
   "cell_type": "code",
   "execution_count": 14,
   "metadata": {},
   "outputs": [
    {
     "name": "stdout",
     "output_type": "stream",
     "text": [
      "50\n"
     ]
    }
   ],
   "source": [
    "emb_dim=embeddings_index[\"eat\"].shape[0]\n",
    "print(emb_dim)"
   ]
  },
  {
   "cell_type": "markdown",
   "metadata": {},
   "source": [
    "### Step 4 - Converting Sentences into Vectors(Embedding Layer Output)"
   ]
  },
  {
   "cell_type": "code",
   "execution_count": 15,
   "metadata": {},
   "outputs": [],
   "source": [
    "def embedding_output(X):\n",
    "    maxLen=10\n",
    "    embedding_output=np.zeros((X.shape[0],maxLen,emb_dim))\n",
    "    \n",
    "    for ix in range(X.shape[0]):\n",
    "        X[ix]=X[ix].split()\n",
    "        \n",
    "        for ij in range(len(X[ix])):\n",
    "            # go to every word in the current sentence\n",
    "            try:\n",
    "                embedding_output[ix][ij]=embeddings_index[X[ix][ij].lower()]\n",
    "            except:\n",
    "                embedding_output[ix][ij]=np.zeros((50,))\n",
    "                \n",
    "    return embedding_output"
   ]
  },
  {
   "cell_type": "code",
   "execution_count": 16,
   "metadata": {},
   "outputs": [
    {
     "name": "stderr",
     "output_type": "stream",
     "text": [
      "c:\\users\\k\\appdata\\local\\programs\\python\\python37\\lib\\site-packages\\ipykernel_launcher.py:6: SettingWithCopyWarning: \n",
      "A value is trying to be set on a copy of a slice from a DataFrame\n",
      "\n",
      "See the caveats in the documentation: https://pandas.pydata.org/pandas-docs/stable/user_guide/indexing.html#returning-a-view-versus-a-copy\n",
      "  \n"
     ]
    }
   ],
   "source": [
    "embeddings_matrix_train=embedding_output(X_train)\n",
    "embeddings_matrix_test=embedding_output(X_test)"
   ]
  },
  {
   "cell_type": "code",
   "execution_count": 17,
   "metadata": {},
   "outputs": [
    {
     "name": "stdout",
     "output_type": "stream",
     "text": [
      "['never', 'talk', 'to', 'me', 'again']\n",
      "5\n"
     ]
    }
   ],
   "source": [
    "print(X_train[0])\n",
    "print(len(X_train[0]))"
   ]
  },
  {
   "cell_type": "code",
   "execution_count": 18,
   "metadata": {},
   "outputs": [
    {
     "name": "stdout",
     "output_type": "stream",
     "text": [
      "(132, 10, 50)\n",
      "(56, 10, 50)\n"
     ]
    }
   ],
   "source": [
    "print(embeddings_matrix_train.shape)\n",
    "print(embeddings_matrix_test.shape)"
   ]
  },
  {
   "cell_type": "code",
   "execution_count": 19,
   "metadata": {},
   "outputs": [],
   "source": [
    "from keras.utils import to_categorical"
   ]
  },
  {
   "cell_type": "code",
   "execution_count": 20,
   "metadata": {},
   "outputs": [
    {
     "name": "stdout",
     "output_type": "stream",
     "text": [
      "(132, 5)\n"
     ]
    }
   ],
   "source": [
    "Y_train=to_categorical(Y_train,num_classes=5)\n",
    "Y_test=to_categorical(Y_test,num_classes=5)\n",
    "print(Y_train.shape)"
   ]
  },
  {
   "cell_type": "markdown",
   "metadata": {},
   "source": [
    "### Step 5 - Define the RNN model"
   ]
  },
  {
   "cell_type": "code",
   "execution_count": 21,
   "metadata": {},
   "outputs": [],
   "source": [
    "from keras.layers import *\n",
    "from keras.models import Sequential"
   ]
  },
  {
   "cell_type": "code",
   "execution_count": 22,
   "metadata": {},
   "outputs": [
    {
     "name": "stdout",
     "output_type": "stream",
     "text": [
      "Model: \"sequential\"\n",
      "_________________________________________________________________\n",
      "Layer (type)                 Output Shape              Param #   \n",
      "=================================================================\n",
      "lstm (LSTM)                  (None, 10, 64)            29440     \n",
      "_________________________________________________________________\n",
      "dropout (Dropout)            (None, 10, 64)            0         \n",
      "_________________________________________________________________\n",
      "lstm_1 (LSTM)                (None, 64)                33024     \n",
      "_________________________________________________________________\n",
      "dropout_1 (Dropout)          (None, 64)                0         \n",
      "_________________________________________________________________\n",
      "dense (Dense)                (None, 5)                 325       \n",
      "_________________________________________________________________\n",
      "activation (Activation)      (None, 5)                 0         \n",
      "=================================================================\n",
      "Total params: 62,789\n",
      "Trainable params: 62,789\n",
      "Non-trainable params: 0\n",
      "_________________________________________________________________\n"
     ]
    }
   ],
   "source": [
    "model=Sequential()\n",
    "model.add(LSTM(64,input_shape=(10,50),return_sequences=True))\n",
    "model.add(Dropout(0.5))\n",
    "model.add(LSTM(64,return_sequences=False))\n",
    "model.add(Dropout(0.5))\n",
    "model.add(Dense(5))\n",
    "model.add(Activation('softmax'))\n",
    "model.compile(loss='categorical_crossentropy',optimizer='adam',metrics=['accuracy'])\n",
    "model.summary()"
   ]
  },
  {
   "cell_type": "code",
   "execution_count": 30,
   "metadata": {},
   "outputs": [
    {
     "name": "stdout",
     "output_type": "stream",
     "text": [
      "Epoch 1/100\n",
      "2/2 [==============================] - 0s 37ms/step - loss: 0.0264 - accuracy: 1.0000 - val_loss: 2.0359 - val_accuracy: 0.6296\n",
      "Epoch 2/100\n",
      "2/2 [==============================] - 0s 24ms/step - loss: 0.0153 - accuracy: 1.0000 - val_loss: 2.0355 - val_accuracy: 0.6296\n",
      "Epoch 3/100\n",
      "2/2 [==============================] - 0s 24ms/step - loss: 0.0764 - accuracy: 0.9810 - val_loss: 1.8734 - val_accuracy: 0.6667\n",
      "Epoch 4/100\n",
      "2/2 [==============================] - 0s 29ms/step - loss: 0.0163 - accuracy: 1.0000 - val_loss: 1.7418 - val_accuracy: 0.6667\n",
      "Epoch 5/100\n",
      "2/2 [==============================] - 0s 24ms/step - loss: 0.0218 - accuracy: 1.0000 - val_loss: 1.7164 - val_accuracy: 0.5926\n",
      "Epoch 6/100\n",
      "2/2 [==============================] - 0s 28ms/step - loss: 0.0109 - accuracy: 1.0000 - val_loss: 1.9435 - val_accuracy: 0.5926\n",
      "Epoch 7/100\n",
      "2/2 [==============================] - 0s 24ms/step - loss: 0.0375 - accuracy: 0.9810 - val_loss: 1.8078 - val_accuracy: 0.6296\n",
      "Epoch 8/100\n",
      "2/2 [==============================] - 0s 24ms/step - loss: 0.0077 - accuracy: 1.0000 - val_loss: 1.9062 - val_accuracy: 0.6667\n",
      "Epoch 9/100\n",
      "2/2 [==============================] - 0s 24ms/step - loss: 0.0491 - accuracy: 0.9905 - val_loss: 1.8665 - val_accuracy: 0.6667\n",
      "Epoch 10/100\n",
      "2/2 [==============================] - 0s 27ms/step - loss: 0.0105 - accuracy: 1.0000 - val_loss: 1.5588 - val_accuracy: 0.6296\n",
      "Epoch 11/100\n",
      "2/2 [==============================] - 0s 28ms/step - loss: 0.0231 - accuracy: 0.9905 - val_loss: 1.6451 - val_accuracy: 0.6296\n",
      "Epoch 12/100\n",
      "2/2 [==============================] - 0s 24ms/step - loss: 0.0814 - accuracy: 0.9905 - val_loss: 1.6693 - val_accuracy: 0.6296\n",
      "Epoch 13/100\n",
      "2/2 [==============================] - 0s 28ms/step - loss: 0.0773 - accuracy: 0.9905 - val_loss: 1.7529 - val_accuracy: 0.6296\n",
      "Epoch 14/100\n",
      "2/2 [==============================] - 0s 28ms/step - loss: 0.0845 - accuracy: 0.9905 - val_loss: 1.9048 - val_accuracy: 0.6667\n",
      "Epoch 15/100\n",
      "2/2 [==============================] - 0s 24ms/step - loss: 0.0118 - accuracy: 1.0000 - val_loss: 2.0040 - val_accuracy: 0.5926\n",
      "Epoch 16/100\n",
      "2/2 [==============================] - 0s 28ms/step - loss: 0.0280 - accuracy: 0.9905 - val_loss: 1.9924 - val_accuracy: 0.5926\n",
      "Epoch 17/100\n",
      "2/2 [==============================] - 0s 24ms/step - loss: 0.0157 - accuracy: 1.0000 - val_loss: 1.7926 - val_accuracy: 0.7407\n",
      "Epoch 18/100\n",
      "2/2 [==============================] - 0s 24ms/step - loss: 0.0154 - accuracy: 1.0000 - val_loss: 1.6552 - val_accuracy: 0.7037\n",
      "Epoch 19/100\n",
      "2/2 [==============================] - 0s 24ms/step - loss: 0.0305 - accuracy: 0.9905 - val_loss: 1.5667 - val_accuracy: 0.6296\n",
      "Epoch 20/100\n",
      "2/2 [==============================] - 0s 24ms/step - loss: 0.0119 - accuracy: 1.0000 - val_loss: 2.0887 - val_accuracy: 0.6296\n",
      "Epoch 21/100\n",
      "2/2 [==============================] - 0s 24ms/step - loss: 0.0688 - accuracy: 0.9810 - val_loss: 2.3024 - val_accuracy: 0.6296\n",
      "Epoch 22/100\n",
      "2/2 [==============================] - 0s 28ms/step - loss: 0.1518 - accuracy: 0.9619 - val_loss: 1.4870 - val_accuracy: 0.6667\n",
      "Epoch 23/100\n",
      "2/2 [==============================] - 0s 24ms/step - loss: 0.0098 - accuracy: 1.0000 - val_loss: 1.7164 - val_accuracy: 0.7037\n",
      "Epoch 24/100\n",
      "2/2 [==============================] - 0s 24ms/step - loss: 0.0507 - accuracy: 0.9810 - val_loss: 1.7101 - val_accuracy: 0.7037\n",
      "Epoch 25/100\n",
      "2/2 [==============================] - 0s 24ms/step - loss: 0.0276 - accuracy: 1.0000 - val_loss: 1.5899 - val_accuracy: 0.7037\n",
      "Epoch 26/100\n",
      "2/2 [==============================] - 0s 24ms/step - loss: 0.0118 - accuracy: 1.0000 - val_loss: 1.6379 - val_accuracy: 0.7037\n",
      "Epoch 27/100\n",
      "2/2 [==============================] - 0s 24ms/step - loss: 0.0203 - accuracy: 0.9905 - val_loss: 1.6523 - val_accuracy: 0.6667\n",
      "Epoch 28/100\n",
      "2/2 [==============================] - 0s 24ms/step - loss: 0.0137 - accuracy: 1.0000 - val_loss: 1.6360 - val_accuracy: 0.7037\n",
      "Epoch 29/100\n",
      "2/2 [==============================] - 0s 20ms/step - loss: 0.0100 - accuracy: 1.0000 - val_loss: 1.6541 - val_accuracy: 0.6667\n",
      "Epoch 30/100\n",
      "2/2 [==============================] - 0s 20ms/step - loss: 0.0112 - accuracy: 1.0000 - val_loss: 1.6511 - val_accuracy: 0.6667\n",
      "Epoch 31/100\n",
      "2/2 [==============================] - 0s 29ms/step - loss: 0.0086 - accuracy: 1.0000 - val_loss: 1.6295 - val_accuracy: 0.6667\n",
      "Epoch 32/100\n",
      "2/2 [==============================] - 0s 24ms/step - loss: 0.0094 - accuracy: 1.0000 - val_loss: 1.5838 - val_accuracy: 0.6667\n",
      "Epoch 33/100\n",
      "2/2 [==============================] - 0s 24ms/step - loss: 0.0117 - accuracy: 1.0000 - val_loss: 1.5447 - val_accuracy: 0.6667\n",
      "Epoch 34/100\n",
      "2/2 [==============================] - 0s 20ms/step - loss: 0.0152 - accuracy: 1.0000 - val_loss: 1.5156 - val_accuracy: 0.6296\n",
      "Epoch 35/100\n",
      "2/2 [==============================] - 0s 24ms/step - loss: 0.0084 - accuracy: 1.0000 - val_loss: 1.5530 - val_accuracy: 0.6296\n",
      "Epoch 36/100\n",
      "2/2 [==============================] - 0s 24ms/step - loss: 0.0087 - accuracy: 1.0000 - val_loss: 1.5994 - val_accuracy: 0.6667\n",
      "Epoch 37/100\n",
      "2/2 [==============================] - 0s 20ms/step - loss: 0.0123 - accuracy: 1.0000 - val_loss: 1.6247 - val_accuracy: 0.6667\n",
      "Epoch 38/100\n",
      "2/2 [==============================] - 0s 24ms/step - loss: 0.0098 - accuracy: 1.0000 - val_loss: 1.6272 - val_accuracy: 0.6667\n",
      "Epoch 39/100\n",
      "2/2 [==============================] - 0s 20ms/step - loss: 0.0103 - accuracy: 1.0000 - val_loss: 1.6253 - val_accuracy: 0.6667\n",
      "Epoch 40/100\n",
      "2/2 [==============================] - 0s 20ms/step - loss: 0.0078 - accuracy: 1.0000 - val_loss: 1.6296 - val_accuracy: 0.6667\n",
      "Epoch 41/100\n",
      "2/2 [==============================] - 0s 21ms/step - loss: 0.0076 - accuracy: 1.0000 - val_loss: 1.6390 - val_accuracy: 0.6667\n",
      "Epoch 42/100\n",
      "2/2 [==============================] - 0s 20ms/step - loss: 0.0080 - accuracy: 1.0000 - val_loss: 1.6625 - val_accuracy: 0.6667\n",
      "Epoch 43/100\n",
      "2/2 [==============================] - 0s 24ms/step - loss: 0.0048 - accuracy: 1.0000 - val_loss: 1.6968 - val_accuracy: 0.5926\n",
      "Epoch 44/100\n",
      "2/2 [==============================] - 0s 23ms/step - loss: 0.0057 - accuracy: 1.0000 - val_loss: 1.7361 - val_accuracy: 0.6296\n",
      "Epoch 45/100\n",
      "2/2 [==============================] - 0s 24ms/step - loss: 0.0092 - accuracy: 1.0000 - val_loss: 1.7722 - val_accuracy: 0.6296\n",
      "Epoch 46/100\n",
      "2/2 [==============================] - 0s 20ms/step - loss: 0.0070 - accuracy: 1.0000 - val_loss: 1.8055 - val_accuracy: 0.6296\n",
      "Epoch 47/100\n",
      "2/2 [==============================] - 0s 24ms/step - loss: 0.0065 - accuracy: 1.0000 - val_loss: 1.8293 - val_accuracy: 0.6296\n",
      "Epoch 48/100\n",
      "2/2 [==============================] - 0s 20ms/step - loss: 0.0073 - accuracy: 1.0000 - val_loss: 1.8361 - val_accuracy: 0.6296\n",
      "Epoch 49/100\n",
      "2/2 [==============================] - 0s 24ms/step - loss: 0.0049 - accuracy: 1.0000 - val_loss: 1.8415 - val_accuracy: 0.6296\n",
      "Epoch 50/100\n",
      "2/2 [==============================] - 0s 20ms/step - loss: 0.0073 - accuracy: 1.0000 - val_loss: 1.8398 - val_accuracy: 0.6296\n",
      "Epoch 51/100\n",
      "2/2 [==============================] - 0s 20ms/step - loss: 0.0060 - accuracy: 1.0000 - val_loss: 1.8390 - val_accuracy: 0.6296\n",
      "Epoch 52/100\n",
      "2/2 [==============================] - 0s 20ms/step - loss: 0.0056 - accuracy: 1.0000 - val_loss: 1.8380 - val_accuracy: 0.6667\n",
      "Epoch 53/100\n",
      "2/2 [==============================] - 0s 24ms/step - loss: 0.0058 - accuracy: 1.0000 - val_loss: 1.8280 - val_accuracy: 0.6667\n",
      "Epoch 54/100\n",
      "2/2 [==============================] - 0s 24ms/step - loss: 0.0061 - accuracy: 1.0000 - val_loss: 1.8173 - val_accuracy: 0.6296\n",
      "Epoch 55/100\n",
      "2/2 [==============================] - 0s 20ms/step - loss: 0.0077 - accuracy: 1.0000 - val_loss: 1.8121 - val_accuracy: 0.6296\n",
      "Epoch 56/100\n",
      "2/2 [==============================] - 0s 24ms/step - loss: 0.0055 - accuracy: 1.0000 - val_loss: 1.8122 - val_accuracy: 0.6296\n",
      "Epoch 57/100\n",
      "2/2 [==============================] - 0s 19ms/step - loss: 0.0044 - accuracy: 1.0000 - val_loss: 1.8169 - val_accuracy: 0.6296\n",
      "Epoch 58/100\n",
      "2/2 [==============================] - 0s 20ms/step - loss: 0.0042 - accuracy: 1.0000 - val_loss: 1.8222 - val_accuracy: 0.6667\n",
      "Epoch 59/100\n"
     ]
    },
    {
     "name": "stdout",
     "output_type": "stream",
     "text": [
      "2/2 [==============================] - 0s 20ms/step - loss: 0.0047 - accuracy: 1.0000 - val_loss: 1.8273 - val_accuracy: 0.6667\n",
      "Epoch 60/100\n",
      "2/2 [==============================] - 0s 20ms/step - loss: 0.0046 - accuracy: 1.0000 - val_loss: 1.8314 - val_accuracy: 0.6667\n",
      "Epoch 61/100\n",
      "2/2 [==============================] - 0s 20ms/step - loss: 0.0046 - accuracy: 1.0000 - val_loss: 1.8355 - val_accuracy: 0.6296\n",
      "Epoch 62/100\n",
      "2/2 [==============================] - 0s 20ms/step - loss: 0.0044 - accuracy: 1.0000 - val_loss: 1.8409 - val_accuracy: 0.6296\n",
      "Epoch 63/100\n",
      "2/2 [==============================] - 0s 20ms/step - loss: 0.0027 - accuracy: 1.0000 - val_loss: 1.8461 - val_accuracy: 0.6296\n",
      "Epoch 64/100\n",
      "2/2 [==============================] - 0s 20ms/step - loss: 0.0036 - accuracy: 1.0000 - val_loss: 1.8504 - val_accuracy: 0.6667\n",
      "Epoch 65/100\n",
      "2/2 [==============================] - 0s 20ms/step - loss: 0.0060 - accuracy: 1.0000 - val_loss: 1.8628 - val_accuracy: 0.6667\n",
      "Epoch 66/100\n",
      "2/2 [==============================] - 0s 20ms/step - loss: 0.0033 - accuracy: 1.0000 - val_loss: 1.8855 - val_accuracy: 0.6296\n",
      "Epoch 67/100\n",
      "2/2 [==============================] - 0s 20ms/step - loss: 0.0035 - accuracy: 1.0000 - val_loss: 1.9069 - val_accuracy: 0.5926\n",
      "Epoch 68/100\n",
      "2/2 [==============================] - 0s 20ms/step - loss: 0.0050 - accuracy: 1.0000 - val_loss: 1.9267 - val_accuracy: 0.5926\n",
      "Epoch 69/100\n",
      "2/2 [==============================] - 0s 23ms/step - loss: 0.0040 - accuracy: 1.0000 - val_loss: 1.9433 - val_accuracy: 0.5926\n",
      "Epoch 70/100\n",
      "2/2 [==============================] - 0s 20ms/step - loss: 0.0049 - accuracy: 1.0000 - val_loss: 1.9527 - val_accuracy: 0.5926\n",
      "Epoch 71/100\n",
      "2/2 [==============================] - 0s 20ms/step - loss: 0.0085 - accuracy: 1.0000 - val_loss: 1.8910 - val_accuracy: 0.6296\n",
      "Epoch 72/100\n",
      "2/2 [==============================] - 0s 20ms/step - loss: 0.0045 - accuracy: 1.0000 - val_loss: 1.8575 - val_accuracy: 0.6667\n",
      "Epoch 73/100\n",
      "2/2 [==============================] - 0s 21ms/step - loss: 0.0045 - accuracy: 1.0000 - val_loss: 1.8625 - val_accuracy: 0.6667\n",
      "Epoch 74/100\n",
      "2/2 [==============================] - 0s 20ms/step - loss: 0.0216 - accuracy: 0.9905 - val_loss: 1.8739 - val_accuracy: 0.6667\n",
      "Epoch 75/100\n",
      "2/2 [==============================] - 0s 20ms/step - loss: 0.0043 - accuracy: 1.0000 - val_loss: 1.8646 - val_accuracy: 0.6667\n",
      "Epoch 76/100\n",
      "2/2 [==============================] - 0s 20ms/step - loss: 0.0088 - accuracy: 1.0000 - val_loss: 1.8430 - val_accuracy: 0.6667\n",
      "Epoch 77/100\n",
      "2/2 [==============================] - 0s 24ms/step - loss: 0.0341 - accuracy: 0.9905 - val_loss: 1.8277 - val_accuracy: 0.7037\n",
      "Epoch 78/100\n",
      "2/2 [==============================] - 0s 20ms/step - loss: 0.0387 - accuracy: 0.9905 - val_loss: 1.8642 - val_accuracy: 0.7037\n",
      "Epoch 79/100\n",
      "2/2 [==============================] - 0s 20ms/step - loss: 0.0087 - accuracy: 1.0000 - val_loss: 1.9275 - val_accuracy: 0.7037\n",
      "Epoch 80/100\n",
      "2/2 [==============================] - 0s 20ms/step - loss: 0.0055 - accuracy: 1.0000 - val_loss: 1.9850 - val_accuracy: 0.6667\n",
      "Epoch 81/100\n",
      "2/2 [==============================] - 0s 18ms/step - loss: 0.0059 - accuracy: 1.0000 - val_loss: 2.0133 - val_accuracy: 0.6667\n",
      "Epoch 82/100\n",
      "2/2 [==============================] - 0s 20ms/step - loss: 0.0227 - accuracy: 0.9810 - val_loss: 1.9464 - val_accuracy: 0.6667\n",
      "Epoch 83/100\n",
      "2/2 [==============================] - 0s 18ms/step - loss: 0.0045 - accuracy: 1.0000 - val_loss: 1.8663 - val_accuracy: 0.6667\n",
      "Epoch 84/100\n",
      "2/2 [==============================] - 0s 20ms/step - loss: 0.0065 - accuracy: 1.0000 - val_loss: 1.7923 - val_accuracy: 0.6667\n",
      "Epoch 85/100\n",
      "2/2 [==============================] - 0s 20ms/step - loss: 0.0061 - accuracy: 1.0000 - val_loss: 1.7355 - val_accuracy: 0.6667\n",
      "Epoch 86/100\n",
      "2/2 [==============================] - 0s 20ms/step - loss: 0.0055 - accuracy: 1.0000 - val_loss: 1.7090 - val_accuracy: 0.6667\n",
      "Epoch 87/100\n",
      "2/2 [==============================] - 0s 20ms/step - loss: 0.0040 - accuracy: 1.0000 - val_loss: 1.7032 - val_accuracy: 0.6296\n",
      "Epoch 88/100\n",
      "2/2 [==============================] - 0s 20ms/step - loss: 0.0059 - accuracy: 1.0000 - val_loss: 1.7057 - val_accuracy: 0.6296\n",
      "Epoch 89/100\n",
      "2/2 [==============================] - 0s 20ms/step - loss: 0.0037 - accuracy: 1.0000 - val_loss: 1.7134 - val_accuracy: 0.5926\n",
      "Epoch 90/100\n",
      "2/2 [==============================] - 0s 16ms/step - loss: 0.0042 - accuracy: 1.0000 - val_loss: 1.7262 - val_accuracy: 0.5556\n",
      "Epoch 91/100\n",
      "2/2 [==============================] - 0s 24ms/step - loss: 0.0046 - accuracy: 1.0000 - val_loss: 1.7441 - val_accuracy: 0.5556\n",
      "Epoch 92/100\n",
      "2/2 [==============================] - 0s 25ms/step - loss: 0.0043 - accuracy: 1.0000 - val_loss: 1.7630 - val_accuracy: 0.5556\n",
      "Epoch 93/100\n",
      "2/2 [==============================] - 0s 24ms/step - loss: 0.0046 - accuracy: 1.0000 - val_loss: 1.7806 - val_accuracy: 0.5926\n",
      "Epoch 94/100\n",
      "2/2 [==============================] - 0s 20ms/step - loss: 0.0056 - accuracy: 1.0000 - val_loss: 1.7965 - val_accuracy: 0.5926\n",
      "Epoch 95/100\n",
      "2/2 [==============================] - 0s 20ms/step - loss: 0.0059 - accuracy: 1.0000 - val_loss: 1.8086 - val_accuracy: 0.5926\n",
      "Epoch 96/100\n",
      "2/2 [==============================] - 0s 20ms/step - loss: 0.0027 - accuracy: 1.0000 - val_loss: 1.8166 - val_accuracy: 0.5926\n",
      "Epoch 97/100\n",
      "2/2 [==============================] - 0s 17ms/step - loss: 0.0048 - accuracy: 1.0000 - val_loss: 1.8264 - val_accuracy: 0.6296\n",
      "Epoch 98/100\n",
      "2/2 [==============================] - 0s 20ms/step - loss: 0.0029 - accuracy: 1.0000 - val_loss: 1.8357 - val_accuracy: 0.6296\n",
      "Epoch 99/100\n",
      "2/2 [==============================] - 0s 20ms/step - loss: 0.0039 - accuracy: 1.0000 - val_loss: 1.8450 - val_accuracy: 0.6667\n",
      "Epoch 100/100\n",
      "2/2 [==============================] - 0s 20ms/step - loss: 0.0040 - accuracy: 1.0000 - val_loss: 1.8540 - val_accuracy: 0.6667\n"
     ]
    }
   ],
   "source": [
    "from keras.callbacks import EarlyStopping\n",
    "from keras.callbacks import ModelCheckpoint\n",
    "\n",
    "checkpoint=ModelCheckpoint(\"best_model.h5\",monitor=\"val_loss\",verbose=True,save_best_only=True)\n",
    "earlystop=EarlyStopping(monitor='val_acc',patience=10)\n",
    "\n",
    "hist=model.fit(embeddings_matrix_train,Y_train,epochs=100,batch_size=64,shuffle=True,validation_split=0.2)"
   ]
  },
  {
   "cell_type": "code",
   "execution_count": 31,
   "metadata": {},
   "outputs": [],
   "source": [
    "pred=model.predict_classes(embeddings_matrix_test)"
   ]
  },
  {
   "cell_type": "code",
   "execution_count": 32,
   "metadata": {},
   "outputs": [
    {
     "name": "stdout",
     "output_type": "stream",
     "text": [
      "[4 3 3 2 2 2 3 2 4 2 1 2 0 3 1 3 2 2 3 4 3 0 4 2 3 3 2 0 1 2 0 1 3 2 0 1 2\n",
      " 4 0 2 1 0 0 2 2 2 2 2 0 1 3 0 3 2 3 0]\n"
     ]
    }
   ],
   "source": [
    "print(pred)"
   ]
  },
  {
   "cell_type": "code",
   "execution_count": 33,
   "metadata": {},
   "outputs": [],
   "source": [
    "# model.load_weights(\"best_model.h5\")"
   ]
  },
  {
   "cell_type": "code",
   "execution_count": 34,
   "metadata": {},
   "outputs": [
    {
     "name": "stdout",
     "output_type": "stream",
     "text": [
      "2/2 [==============================] - 0s 12ms/step - loss: 2.2099 - accuracy: 0.5714\n"
     ]
    },
    {
     "data": {
      "text/plain": [
       "[2.2098543643951416, 0.5714285969734192]"
      ]
     },
     "execution_count": 34,
     "metadata": {},
     "output_type": "execute_result"
    }
   ],
   "source": [
    "model.evaluate(embeddings_matrix_test,Y_test)"
   ]
  },
  {
   "cell_type": "code",
   "execution_count": 35,
   "metadata": {},
   "outputs": [
    {
     "name": "stdout",
     "output_type": "stream",
     "text": [
      "I want to eat\n",
      "🍴\n",
      "🍴\n",
      "he did not answer\n",
      "😓\n",
      "😓\n",
      "he got a raise\n",
      "😁\n",
      "😓\n",
      "she got me a present\n",
      "❤️\n",
      "😁\n",
      "ha ha ha it was so funny\n",
      "😁\n",
      "😁\n",
      "he is a good friend\n",
      "❤️\n",
      "😁\n",
      "I am upset\n",
      "❤️\n",
      "😓\n",
      "We had such a lovely dinner tonight\n",
      "❤️\n",
      "😁\n",
      "where is the food\n",
      "🍴\n",
      "🍴\n",
      "Stop making this joke ha ha ha\n",
      "😁\n",
      "😁\n",
      "where is the ball\n",
      "⚾\n",
      "⚾\n",
      "work is hard\n",
      "😓\n",
      "😁\n",
      "This girl is messing with me\n",
      "😓\n",
      "❤️\n",
      "are you serious ha ha\n",
      "😁\n",
      "😓\n",
      "Let us go play baseball\n",
      "⚾\n",
      "⚾\n",
      "This stupid grader is not working\n",
      "😓\n",
      "😓\n",
      "work is horrible\n",
      "😓\n",
      "😁\n",
      "Congratulation for having a baby\n",
      "😁\n",
      "😁\n",
      "stop messing around\n",
      "😓\n",
      "😓\n",
      "any suggestions for dinner\n",
      "🍴\n",
      "🍴\n",
      "I love taking breaks\n",
      "❤️\n",
      "😓\n",
      "you brighten my day\n",
      "😁\n",
      "❤️\n",
      "I boiled rice\n",
      "🍴\n",
      "🍴\n",
      "she is a bully\n",
      "😓\n",
      "😁\n",
      "Why are you feeling bad\n",
      "😓\n",
      "😓\n",
      "I am upset\n",
      "😓\n",
      "😓\n",
      "I worked during my birthday\n",
      "😓\n",
      "😁\n",
      "My grandmother is the love of my life\n",
      "❤️\n",
      "❤️\n",
      "enjoy your break\n",
      "😁\n",
      "⚾\n",
      "valentine day is near\n",
      "❤️\n",
      "😁\n"
     ]
    }
   ],
   "source": [
    "for i in range(30):\n",
    "    print(' '.join(X_test[i]))\n",
    "    print(emoji.emojize(emoji_dictionary[str(np.argmax(Y_test[i]))]))\n",
    "    print(emoji.emojize(emoji_dictionary[str(pred[i])]))"
   ]
  },
  {
   "cell_type": "markdown",
   "metadata": {},
   "source": [
    "# END"
   ]
  }
 ],
 "metadata": {
  "kernelspec": {
   "display_name": "Python 3",
   "language": "python",
   "name": "python3"
  },
  "language_info": {
   "codemirror_mode": {
    "name": "ipython",
    "version": 3
   },
   "file_extension": ".py",
   "mimetype": "text/x-python",
   "name": "python",
   "nbconvert_exporter": "python",
   "pygments_lexer": "ipython3",
   "version": "3.7.6"
  }
 },
 "nbformat": 4,
 "nbformat_minor": 4
}
